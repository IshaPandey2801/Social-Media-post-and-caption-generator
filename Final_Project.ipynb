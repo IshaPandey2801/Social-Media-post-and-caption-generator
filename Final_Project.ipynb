{
 "cells": [
  {
   "cell_type": "code",
   "execution_count": null,
   "metadata": {
    "colab": {
     "base_uri": "https://localhost:8080/"
    },
    "id": "Z_lKKEnq7i7A",
    "outputId": "79d259d5-6bad-4b0a-9b77-0eb26d5393f3"
   },
   "outputs": [
    {
     "name": "stdout",
     "output_type": "stream",
     "text": [
      "Requirement already satisfied: transformers in /usr/local/lib/python3.11/dist-packages (4.53.1)\n",
      "Requirement already satisfied: gradio in /usr/local/lib/python3.11/dist-packages (5.31.0)\n",
      "Requirement already satisfied: filelock in /usr/local/lib/python3.11/dist-packages (from transformers) (3.18.0)\n",
      "Requirement already satisfied: huggingface-hub<1.0,>=0.30.0 in /usr/local/lib/python3.11/dist-packages (from transformers) (0.33.2)\n",
      "Requirement already satisfied: numpy>=1.17 in /usr/local/lib/python3.11/dist-packages (from transformers) (2.0.2)\n",
      "Requirement already satisfied: packaging>=20.0 in /usr/local/lib/python3.11/dist-packages (from transformers) (24.2)\n",
      "Requirement already satisfied: pyyaml>=5.1 in /usr/local/lib/python3.11/dist-packages (from transformers) (6.0.2)\n",
      "Requirement already satisfied: regex!=2019.12.17 in /usr/local/lib/python3.11/dist-packages (from transformers) (2024.11.6)\n",
      "Requirement already satisfied: requests in /usr/local/lib/python3.11/dist-packages (from transformers) (2.32.3)\n",
      "Requirement already satisfied: tokenizers<0.22,>=0.21 in /usr/local/lib/python3.11/dist-packages (from transformers) (0.21.2)\n",
      "Requirement already satisfied: safetensors>=0.4.3 in /usr/local/lib/python3.11/dist-packages (from transformers) (0.5.3)\n",
      "Requirement already satisfied: tqdm>=4.27 in /usr/local/lib/python3.11/dist-packages (from transformers) (4.67.1)\n",
      "Requirement already satisfied: aiofiles<25.0,>=22.0 in /usr/local/lib/python3.11/dist-packages (from gradio) (24.1.0)\n",
      "Requirement already satisfied: anyio<5.0,>=3.0 in /usr/local/lib/python3.11/dist-packages (from gradio) (4.9.0)\n",
      "Requirement already satisfied: fastapi<1.0,>=0.115.2 in /usr/local/lib/python3.11/dist-packages (from gradio) (0.115.14)\n",
      "Requirement already satisfied: ffmpy in /usr/local/lib/python3.11/dist-packages (from gradio) (0.6.0)\n",
      "Requirement already satisfied: gradio-client==1.10.1 in /usr/local/lib/python3.11/dist-packages (from gradio) (1.10.1)\n",
      "Requirement already satisfied: groovy~=0.1 in /usr/local/lib/python3.11/dist-packages (from gradio) (0.1.2)\n",
      "Requirement already satisfied: httpx>=0.24.1 in /usr/local/lib/python3.11/dist-packages (from gradio) (0.28.1)\n",
      "Requirement already satisfied: jinja2<4.0 in /usr/local/lib/python3.11/dist-packages (from gradio) (3.1.6)\n",
      "Requirement already satisfied: markupsafe<4.0,>=2.0 in /usr/local/lib/python3.11/dist-packages (from gradio) (3.0.2)\n",
      "Requirement already satisfied: orjson~=3.0 in /usr/local/lib/python3.11/dist-packages (from gradio) (3.10.18)\n",
      "Requirement already satisfied: pandas<3.0,>=1.0 in /usr/local/lib/python3.11/dist-packages (from gradio) (2.2.2)\n",
      "Requirement already satisfied: pillow<12.0,>=8.0 in /usr/local/lib/python3.11/dist-packages (from gradio) (11.2.1)\n",
      "Requirement already satisfied: pydantic<2.12,>=2.0 in /usr/local/lib/python3.11/dist-packages (from gradio) (2.11.7)\n",
      "Requirement already satisfied: pydub in /usr/local/lib/python3.11/dist-packages (from gradio) (0.25.1)\n",
      "Requirement already satisfied: python-multipart>=0.0.18 in /usr/local/lib/python3.11/dist-packages (from gradio) (0.0.20)\n",
      "Requirement already satisfied: ruff>=0.9.3 in /usr/local/lib/python3.11/dist-packages (from gradio) (0.12.2)\n",
      "Requirement already satisfied: safehttpx<0.2.0,>=0.1.6 in /usr/local/lib/python3.11/dist-packages (from gradio) (0.1.6)\n",
      "Requirement already satisfied: semantic-version~=2.0 in /usr/local/lib/python3.11/dist-packages (from gradio) (2.10.0)\n",
      "Requirement already satisfied: starlette<1.0,>=0.40.0 in /usr/local/lib/python3.11/dist-packages (from gradio) (0.46.2)\n",
      "Requirement already satisfied: tomlkit<0.14.0,>=0.12.0 in /usr/local/lib/python3.11/dist-packages (from gradio) (0.13.3)\n",
      "Requirement already satisfied: typer<1.0,>=0.12 in /usr/local/lib/python3.11/dist-packages (from gradio) (0.16.0)\n",
      "Requirement already satisfied: typing-extensions~=4.0 in /usr/local/lib/python3.11/dist-packages (from gradio) (4.14.1)\n",
      "Requirement already satisfied: uvicorn>=0.14.0 in /usr/local/lib/python3.11/dist-packages (from gradio) (0.35.0)\n",
      "Requirement already satisfied: fsspec in /usr/local/lib/python3.11/dist-packages (from gradio-client==1.10.1->gradio) (2025.3.2)\n",
      "Requirement already satisfied: websockets<16.0,>=10.0 in /usr/local/lib/python3.11/dist-packages (from gradio-client==1.10.1->gradio) (15.0.1)\n",
      "Requirement already satisfied: idna>=2.8 in /usr/local/lib/python3.11/dist-packages (from anyio<5.0,>=3.0->gradio) (3.10)\n",
      "Requirement already satisfied: sniffio>=1.1 in /usr/local/lib/python3.11/dist-packages (from anyio<5.0,>=3.0->gradio) (1.3.1)\n",
      "Requirement already satisfied: certifi in /usr/local/lib/python3.11/dist-packages (from httpx>=0.24.1->gradio) (2025.6.15)\n",
      "Requirement already satisfied: httpcore==1.* in /usr/local/lib/python3.11/dist-packages (from httpx>=0.24.1->gradio) (1.0.9)\n",
      "Requirement already satisfied: h11>=0.16 in /usr/local/lib/python3.11/dist-packages (from httpcore==1.*->httpx>=0.24.1->gradio) (0.16.0)\n",
      "Requirement already satisfied: hf-xet<2.0.0,>=1.1.2 in /usr/local/lib/python3.11/dist-packages (from huggingface-hub<1.0,>=0.30.0->transformers) (1.1.5)\n",
      "Requirement already satisfied: python-dateutil>=2.8.2 in /usr/local/lib/python3.11/dist-packages (from pandas<3.0,>=1.0->gradio) (2.9.0.post0)\n",
      "Requirement already satisfied: pytz>=2020.1 in /usr/local/lib/python3.11/dist-packages (from pandas<3.0,>=1.0->gradio) (2025.2)\n",
      "Requirement already satisfied: tzdata>=2022.7 in /usr/local/lib/python3.11/dist-packages (from pandas<3.0,>=1.0->gradio) (2025.2)\n",
      "Requirement already satisfied: annotated-types>=0.6.0 in /usr/local/lib/python3.11/dist-packages (from pydantic<2.12,>=2.0->gradio) (0.7.0)\n",
      "Requirement already satisfied: pydantic-core==2.33.2 in /usr/local/lib/python3.11/dist-packages (from pydantic<2.12,>=2.0->gradio) (2.33.2)\n",
      "Requirement already satisfied: typing-inspection>=0.4.0 in /usr/local/lib/python3.11/dist-packages (from pydantic<2.12,>=2.0->gradio) (0.4.1)\n",
      "Requirement already satisfied: click>=8.0.0 in /usr/local/lib/python3.11/dist-packages (from typer<1.0,>=0.12->gradio) (8.2.1)\n",
      "Requirement already satisfied: shellingham>=1.3.0 in /usr/local/lib/python3.11/dist-packages (from typer<1.0,>=0.12->gradio) (1.5.4)\n",
      "Requirement already satisfied: rich>=10.11.0 in /usr/local/lib/python3.11/dist-packages (from typer<1.0,>=0.12->gradio) (13.9.4)\n",
      "Requirement already satisfied: charset-normalizer<4,>=2 in /usr/local/lib/python3.11/dist-packages (from requests->transformers) (3.4.2)\n",
      "Requirement already satisfied: urllib3<3,>=1.21.1 in /usr/local/lib/python3.11/dist-packages (from requests->transformers) (2.4.0)\n",
      "Requirement already satisfied: six>=1.5 in /usr/local/lib/python3.11/dist-packages (from python-dateutil>=2.8.2->pandas<3.0,>=1.0->gradio) (1.17.0)\n",
      "Requirement already satisfied: markdown-it-py>=2.2.0 in /usr/local/lib/python3.11/dist-packages (from rich>=10.11.0->typer<1.0,>=0.12->gradio) (3.0.0)\n",
      "Requirement already satisfied: pygments<3.0.0,>=2.13.0 in /usr/local/lib/python3.11/dist-packages (from rich>=10.11.0->typer<1.0,>=0.12->gradio) (2.19.2)\n",
      "Requirement already satisfied: mdurl~=0.1 in /usr/local/lib/python3.11/dist-packages (from markdown-it-py>=2.2.0->rich>=10.11.0->typer<1.0,>=0.12->gradio) (0.1.2)\n"
     ]
    }
   ],
   "source": [
    "!pip install transformers gradio\n"
   ]
  },
  {
   "cell_type": "code",
   "execution_count": null,
   "metadata": {
    "id": "VVZh7cwQ7tn3"
   },
   "outputs": [],
   "source": [
    "import gradio as gr\n",
    "from transformers import pipeline\n",
    "import random"
   ]
  },
  {
   "cell_type": "code",
   "execution_count": null,
   "metadata": {
    "colab": {
     "base_uri": "https://localhost:8080/",
     "height": 382,
     "referenced_widgets": [
      "a6d309954cce4de0b4500ec167aa7b43",
      "3dc5987226cc445e8d345855f3b11398",
      "b5732571a3ff451e8bce9e482194750c",
      "9b9fda1ec6d8444bbdf91ae6885b410c",
      "15e126afce874147ae422d89a32fecc5",
      "fedcebd759594b16b302fe73d4256aba",
      "d7bfde23530d4d718c880a59c3a08049",
      "484b6f3d5c8b48e6990c2b46b2065604",
      "fe78b3d1d53b4937a130ec9469449b00",
      "4af4b7cecdb64684bb9631d3078d3499",
      "b4a1f5419b3c4c138a06f9a40e261793",
      "125f729069e340a79e7267cef3f4b907",
      "8a5a1565eac64b1aa8bd5acc5f113b35",
      "4b72061a9b5643148cd1d5913ca8ee6b",
      "8fe178dec9d541d4be312721d8a8627a",
      "48a1d535b31a4ebfb7206aefd967512d",
      "e0e95b2d8ccb4981bc7c5620924af744",
      "20ba553e758e4a25baccb4d04db58d05",
      "8f116e411ada4d67945375732e592392",
      "5b965f80f1b84c748bc5a7eeeffb60a6",
      "437b014e9e37454cafc43210cb7d957d",
      "1637b67e93e94bafa7e026c6f0abed8d",
      "a8f13598c9ef474da9f5b268097b1c59",
      "9dd428e57677418997cb57af47d91ff5",
      "0fbe305d82944526becd65036ae7772c",
      "f369627eab7342128a74d7de89618cd1",
      "a95de8878e104f7397e57e65223024b1",
      "ea671826b05b495eb35e443ddf208760",
      "6701a6e65744485c96c6cca3792d947f",
      "34030dd2749a40849fe92ecbec01580f",
      "a96e9a4b4bae44e9a6197002c671a51c",
      "ad86a82145cf4e6998f893b399008b94",
      "1bddfbdcd1ec40cdafe30d0a8a160b25",
      "0cd4b73b8e8c4e739dad7c1290c55ae0",
      "5fda32e4caae4986b793a9192d4a0809",
      "6eac55e435c74f9f96cecf101049c5b2",
      "598f134963ac4312885ca3a4b0aa8ba3",
      "dd610d34067641d08ef7f8313c7b9b9f",
      "98963ed83f564f6ead230adf6ccb39d0",
      "7972324507644bab89572ebd761fb242",
      "dd8c2a7f26294f1ebbef81079e0a67ff",
      "2bfdc91ddfcd482baf3ff465f27bf162",
      "64a9f93ce6bd42b9b792f68d07296255",
      "30b70ac311954fd480b7cff1fab91e57",
      "eb812f9b1bc64d5e85a95fe63735f957",
      "0e9371199a914d5386271d8c4f6a2922",
      "f8387af445a44ca1982d406d84614191",
      "90c620f4866e4357b9888cb0e8c82f37",
      "315f107020c54b269188a98df9ba5b7b",
      "e0dd3e0fa2464900b5fb3f75e450e8f8",
      "56032246d36a4657bbde40a71eee359d",
      "12466db1cba0452c89e0ab4ef2f9396f",
      "528289d411be479697712bd9efe11bba",
      "acaa30d04d044e1797479a0ebf1aa628",
      "a7451a6311bd4a91bebd351df2cd8feb",
      "0122e7f9050d4de4bddaa8f003c395f3",
      "0de0b1c3153c4d2f8b97e361fad12231",
      "518dcf766b4e4788ab6ace3806684e62",
      "db7a2faff56746c68a5f75ed6677aed3",
      "259da7177b674cdf921aaad854e59149",
      "88ae294e133847eea8e0ff250208ce7d",
      "cbea79c154884dd88137fec23b5c9422",
      "80aeb9ac754b478c8b2f0b879fbedefb",
      "5ed59050477147f9be0434f626dcde30",
      "42b4d699a68b49cfb29e52fe91b6d7c9",
      "62fbe4675222437e94996b6cc78a4cac",
      "d83bf877a3694d918e1fe147b955acae",
      "cc292cefc2504186af2087667a65751e",
      "5d6e056140244418873ecd79ac9df426",
      "42bebe58b978452ea48a01bc4d2af267",
      "1a425edc89184f3eb3452697bf9afb65",
      "4c2f442186fb4cfd9afa9589c81a985b",
      "918b712de1a142629413cd2ea57a4cbf",
      "269b1579eee243feb34d857208918b91",
      "efa4c606d7b6462f88fe1a5273fa9a2e",
      "07c00c76c3e84832a6477fb07a8df0c3",
      "4d82f09fa5c6422699c41d6c2c07da32"
     ]
    },
    "id": "XFLZPGY371Oz",
    "outputId": "96ae8739-0b19-4360-c755-7ff8df39e49b"
   },
   "outputs": [
    {
     "name": "stderr",
     "output_type": "stream",
     "text": [
      "/usr/local/lib/python3.11/dist-packages/huggingface_hub/utils/_auth.py:94: UserWarning: \n",
      "The secret `HF_TOKEN` does not exist in your Colab secrets.\n",
      "To authenticate with the Hugging Face Hub, create a token in your settings tab (https://huggingface.co/settings/tokens), set it as secret in your Google Colab and restart your session.\n",
      "You will be able to reuse this secret in all of your notebooks.\n",
      "Please note that authentication is recommended but still optional to access public models or datasets.\n",
      "  warnings.warn(\n"
     ]
    },
    {
     "data": {
      "application/vnd.jupyter.widget-view+json": {
       "model_id": "a6d309954cce4de0b4500ec167aa7b43",
       "version_major": 2,
       "version_minor": 0
      },
      "text/plain": [
       "config.json:   0%|          | 0.00/665 [00:00<?, ?B/s]"
      ]
     },
     "metadata": {},
     "output_type": "display_data"
    },
    {
     "data": {
      "application/vnd.jupyter.widget-view+json": {
       "model_id": "125f729069e340a79e7267cef3f4b907",
       "version_major": 2,
       "version_minor": 0
      },
      "text/plain": [
       "model.safetensors:   0%|          | 0.00/548M [00:00<?, ?B/s]"
      ]
     },
     "metadata": {},
     "output_type": "display_data"
    },
    {
     "data": {
      "application/vnd.jupyter.widget-view+json": {
       "model_id": "a8f13598c9ef474da9f5b268097b1c59",
       "version_major": 2,
       "version_minor": 0
      },
      "text/plain": [
       "generation_config.json:   0%|          | 0.00/124 [00:00<?, ?B/s]"
      ]
     },
     "metadata": {},
     "output_type": "display_data"
    },
    {
     "data": {
      "application/vnd.jupyter.widget-view+json": {
       "model_id": "0cd4b73b8e8c4e739dad7c1290c55ae0",
       "version_major": 2,
       "version_minor": 0
      },
      "text/plain": [
       "tokenizer_config.json:   0%|          | 0.00/26.0 [00:00<?, ?B/s]"
      ]
     },
     "metadata": {},
     "output_type": "display_data"
    },
    {
     "data": {
      "application/vnd.jupyter.widget-view+json": {
       "model_id": "eb812f9b1bc64d5e85a95fe63735f957",
       "version_major": 2,
       "version_minor": 0
      },
      "text/plain": [
       "vocab.json:   0%|          | 0.00/1.04M [00:00<?, ?B/s]"
      ]
     },
     "metadata": {},
     "output_type": "display_data"
    },
    {
     "data": {
      "application/vnd.jupyter.widget-view+json": {
       "model_id": "0122e7f9050d4de4bddaa8f003c395f3",
       "version_major": 2,
       "version_minor": 0
      },
      "text/plain": [
       "merges.txt:   0%|          | 0.00/456k [00:00<?, ?B/s]"
      ]
     },
     "metadata": {},
     "output_type": "display_data"
    },
    {
     "data": {
      "application/vnd.jupyter.widget-view+json": {
       "model_id": "d83bf877a3694d918e1fe147b955acae",
       "version_major": 2,
       "version_minor": 0
      },
      "text/plain": [
       "tokenizer.json:   0%|          | 0.00/1.36M [00:00<?, ?B/s]"
      ]
     },
     "metadata": {},
     "output_type": "display_data"
    },
    {
     "name": "stderr",
     "output_type": "stream",
     "text": [
      "Device set to use cpu\n"
     ]
    }
   ],
   "source": [
    "caption_generator = pipeline(\"text-generation\", model=\"gpt2\")"
   ]
  },
  {
   "cell_type": "code",
   "execution_count": null,
   "metadata": {
    "colab": {
     "base_uri": "https://localhost:8080/",
     "height": 217,
     "referenced_widgets": [
      "22d3ae3277f049dc98bba8dc73434055",
      "85c9620a582f42c99f7b832878cd9877",
      "e5f71457c8a84aa6b3126d56a2179448",
      "0eee784b796348f3b7341269f6a907dd",
      "00355133bff347c48968c1c64f1d82bc",
      "e2b964d5e5134663a67f375ac4bcf476",
      "eee26d90cac749628196c12bbbbecdfc",
      "96ffe06e13074eda8a0d813740086dff",
      "851397e0acbc40d9813924092782def9",
      "f8f9a04258e849d8ab5584a7629dbce2",
      "9696745c412e4ef3a4a2775974e99c7b",
      "f4c2c8535b914247a51d83378705a6ea",
      "1f734f281d334c3c8a5e40d3bbd5985b",
      "9c3b937487d7493ea448e831789dc79a",
      "4119cbe7325a4dc5a3cdee03d481b94f",
      "b9471b86ba5a44ec83fd2aa126bcea23",
      "0d4d90757a99416cb07ffb18b1f87130",
      "53214e41c68e482d85d044ed768f1e41",
      "425ca13550024aaba2885f8af110e985",
      "152a01c0f2c34a35b034b299610dbcda",
      "75231536cfaa466a8a05df1ab7f04ec2",
      "18301ff80e1d4d439ee7fd3e8eabac09",
      "aefeea4e704248c4812af1c16cdc2c97",
      "e2567df6c9bc4be982cdf9eeb0f859bb",
      "50ca6a241a89409b824df1f161fbf883",
      "50efbaf3a64f489197c59370af711edc",
      "0d1f4fa788284f53bdfb5d814c77a889",
      "ba6db2b169d34e2b91074dd19505d024",
      "a44be846980e42eba39efe770d6ffe73",
      "5ec8c5e2798e47e8af2b4bc789244d75",
      "05816bb0dad0493db9d326ccc47b2bb7",
      "9868a0530d5048de9dcf2758a1bfec11",
      "ed03ed4b5dc744bc85e21d10b38bb01f",
      "b1d5865dd57d4a5780cfc5e80aa03e95",
      "0c7225d76a134c09b2a52062440107e6",
      "e1a386e9633a4966bc52a8b70dc969f7",
      "f079586e20ba4f099024b77543c7c1bc",
      "973e39f00cbe4ed98222696593591f45",
      "53725813aca245799da3956d47932f82",
      "5da9fc3add264424a1bbe565ecd0614a",
      "6e7e3c700d1e4f6a8147d29b31e8aad9",
      "823fa52d91974e94b5882fbc73513528",
      "a83ced04409c401cb3b510a6a5f914e3",
      "4b70a8d5786840fab9b79be5c355dabf"
     ]
    },
    "id": "ssCCKb-L8EJJ",
    "outputId": "ece5d692-180c-46bb-ec32-5c3fdd139c33"
   },
   "outputs": [
    {
     "name": "stderr",
     "output_type": "stream",
     "text": [
      "No model was supplied, defaulted to distilbert/distilbert-base-uncased-finetuned-sst-2-english and revision 714eb0f (https://huggingface.co/distilbert/distilbert-base-uncased-finetuned-sst-2-english).\n",
      "Using a pipeline without specifying a model name and revision in production is not recommended.\n"
     ]
    },
    {
     "data": {
      "application/vnd.jupyter.widget-view+json": {
       "model_id": "22d3ae3277f049dc98bba8dc73434055",
       "version_major": 2,
       "version_minor": 0
      },
      "text/plain": [
       "config.json:   0%|          | 0.00/629 [00:00<?, ?B/s]"
      ]
     },
     "metadata": {},
     "output_type": "display_data"
    },
    {
     "data": {
      "application/vnd.jupyter.widget-view+json": {
       "model_id": "f4c2c8535b914247a51d83378705a6ea",
       "version_major": 2,
       "version_minor": 0
      },
      "text/plain": [
       "model.safetensors:   0%|          | 0.00/268M [00:00<?, ?B/s]"
      ]
     },
     "metadata": {},
     "output_type": "display_data"
    },
    {
     "data": {
      "application/vnd.jupyter.widget-view+json": {
       "model_id": "aefeea4e704248c4812af1c16cdc2c97",
       "version_major": 2,
       "version_minor": 0
      },
      "text/plain": [
       "tokenizer_config.json:   0%|          | 0.00/48.0 [00:00<?, ?B/s]"
      ]
     },
     "metadata": {},
     "output_type": "display_data"
    },
    {
     "data": {
      "application/vnd.jupyter.widget-view+json": {
       "model_id": "b1d5865dd57d4a5780cfc5e80aa03e95",
       "version_major": 2,
       "version_minor": 0
      },
      "text/plain": [
       "vocab.txt: 0.00B [00:00, ?B/s]"
      ]
     },
     "metadata": {},
     "output_type": "display_data"
    },
    {
     "name": "stderr",
     "output_type": "stream",
     "text": [
      "Device set to use cpu\n"
     ]
    }
   ],
   "source": [
    "emoji_dict = {\n",
    "    \"positive\": [\"😊\", \"🌟\", \"🔥\", \"💪\", \"🚀\", \"✨\"],\n",
    "    \"negative\": [\"😢\", \"😞\", \"💔\", \"😠\", \"😓\"],\n",
    "    \"neutral\": [\"🙂\", \"😐\", \"🧐\", \"🤔\", \"😶\"]\n",
    "}\n",
    "\n",
    "sentiment_pipeline = pipeline(\"sentiment-analysis\")\n",
    "\n",
    "def get_emojis(text):\n",
    "    label = sentiment_pipeline(text)[0]['label'].lower()\n",
    "    return ''.join(random.sample(emoji_dict.get(label, [\"🙂\"]), 3))"
   ]
  },
  {
   "cell_type": "code",
   "execution_count": null,
   "metadata": {
    "id": "_NzO7FFH8KQ3"
   },
   "outputs": [],
   "source": [
    "def get_hashtags(prompt, platform):\n",
    "    words = prompt.lower().split()\n",
    "    tags = [\"#\" + word.replace(\" \", \"\") for word in words if len(word) > 3]\n",
    "\n",
    "    platform_tags = {\n",
    "        \"Instagram\": [\"#instadaily\", \"#igers\", \"#picoftheday\"],\n",
    "        \"LinkedIn\": [\"#career\", \"#leadership\", \"#networking\"],\n",
    "        \"Twitter\": [\"#tweet\", \"#trending\", \"#news\"]\n",
    "    }\n",
    "\n",
    "    return \" \".join(tags[:5] + random.sample(platform_tags[platform], 2))"
   ]
  },
  {
   "cell_type": "code",
   "execution_count": null,
   "metadata": {
    "id": "HnQu2Iom8RrG"
   },
   "outputs": [],
   "source": [
    "def generate_post(prompt, platform):\n",
    "    # Generate caption\n",
    "    caption = caption_generator(prompt, max_length=50, num_return_sequences=1)[0]['generated_text']\n",
    "\n",
    "    # Generate emojis\n",
    "    emojis = get_emojis(caption)\n",
    "\n",
    "    # Generate hashtags\n",
    "    hashtags = get_hashtags(prompt, platform)\n",
    "\n",
    "    return caption.strip(), emojis, hashtags"
   ]
  },
  {
   "cell_type": "code",
   "execution_count": null,
   "metadata": {
    "colab": {
     "base_uri": "https://localhost:8080/",
     "height": 645
    },
    "id": "8805TQ2R8TwL",
    "outputId": "957074ed-1f39-49e1-ef38-d4eda8cacd00"
   },
   "outputs": [
    {
     "name": "stdout",
     "output_type": "stream",
     "text": [
      "It looks like you are running Gradio on a hosted a Jupyter notebook. For the Gradio app to work, sharing must be enabled. Automatically setting `share=True` (you can turn this off by setting `share=False` in `launch()` explicitly).\n",
      "\n",
      "Colab notebook detected. To show errors in colab notebook, set debug=True in launch()\n",
      "* Running on public URL: https://28b6cdfaec7c97e467.gradio.live\n",
      "\n",
      "This share link expires in 1 week. For free permanent hosting and GPU upgrades, run `gradio deploy` from the terminal in the working directory to deploy to Hugging Face Spaces (https://huggingface.co/spaces)\n"
     ]
    },
    {
     "data": {
      "text/html": [
       "<div><iframe src=\"https://28b6cdfaec7c97e467.gradio.live\" width=\"100%\" height=\"500\" allow=\"autoplay; camera; microphone; clipboard-read; clipboard-write;\" frameborder=\"0\" allowfullscreen></iframe></div>"
      ],
      "text/plain": [
       "<IPython.core.display.HTML object>"
      ]
     },
     "metadata": {},
     "output_type": "display_data"
    },
    {
     "data": {
      "text/plain": []
     },
     "execution_count": 7,
     "metadata": {},
     "output_type": "execute_result"
    }
   ],
   "source": [
    "interface = gr.Interface(\n",
    "    fn=generate_post,\n",
    "    inputs=[\n",
    "        gr.Textbox(label=\"Enter keyword or theme\"),\n",
    "        gr.Radio([\"Instagram\", \"LinkedIn\", \"Twitter\"], label=\"Choose Platform\")\n",
    "    ],\n",
    "    outputs=[\n",
    "        gr.Textbox(label=\"Generated Caption\"),\n",
    "        gr.Textbox(label=\"Emojis\"),\n",
    "        gr.Textbox(label=\"Hashtags\")\n",
    "    ],\n",
    "    title=\"Social Media Post & Caption Generator\",\n",
    "    description=\"Generate catchy captions, relevant hashtags, and emojis based on your theme!\"\n",
    ")\n",
    "\n",
    "interface.launch()"
   ]
  }
 ],
 "metadata": {
  "colab": {
   "provenance": []
  },
  "kernelspec": {
   "display_name": "Python 3",
   "name": "python3"
  },
  "language_info": {
   "name": "python"
  },
  "widgets": {
   "state": {}
  }
 },
 "nbformat": 4,
 "nbformat_minor": 0
}
